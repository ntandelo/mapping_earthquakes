{
 "cells": [
  {
   "cell_type": "markdown",
   "metadata": {},
   "source": [
    "**2022-04-28 `13.2-Mapping - Mapping GeoJSON Data`**"
   ]
  },
  {
   "cell_type": "markdown",
   "metadata": {},
   "source": [
    "**Objectives**\n",
    "* Use external GeoJSON data to populate a map.\n",
    "* Modify the layer controls to add interactivity to maps."
   ]
  },
  {
   "cell_type": "markdown",
   "metadata": {},
   "source": [
    "**Presentation**\n",
    "* [13.2-Mapping - Mapping GeoJSON Data](https://ucb.bootcampcontent.com/UCB-Coding-Bootcamp/UCB-VIRT-DATA-PT-02-2022-U-B/-/blob/main/Live-Sessions/13-Mapping/Slideshows/Data-M_13.2-Mapping.pdf)"
   ]
  },
  {
   "cell_type": "markdown",
   "metadata": {},
   "source": [
    "**API Keys**\n",
    "* Sign-up for free [Mapbox](https://account.mapbox.com/auth/signup/) account\n",
    "\n",
    "  - Copy your API Keys from [`Mapbox` Account](https://account.mapbox.com/) and add it to your config.js file using:\n",
    "\n",
    "```js\n",
    "const API_KEY = \"YOUR KEY HERE\";\n",
    "```"
   ]
  },
  {
   "cell_type": "markdown",
   "metadata": {},
   "source": [
    "**Mapbox maps ids**\n",
    "* Mapbox Dark `mapbox/dark-v10`\n",
    "* Mapbox Light `mapbox/light-v10`\n",
    "* Mapbox Navigation Day `mapbox/navigation-day-v1`\n",
    "* Mapbox Navigation Night `mapbox/navigation-night-v1`\n",
    "* Mapbox Outdoors `mapbox/outdoors-v11`\n",
    "* Mapbox Satellite `mapbox/satellite-v9`\n",
    "* Mapbox Satellite Streets `mapbox/satellite-streets-v11`\n",
    "* Mapbox Streets `mapbox/streets-v11`"
   ]
  },
  {
   "cell_type": "markdown",
   "metadata": {
    "tags": []
   },
   "source": [
    "# =========================================="
   ]
  },
  {
   "cell_type": "markdown",
   "metadata": {},
   "source": [
    "### 2.01 Instructor Do: What is GeoJSON? (0:10)"
   ]
  },
  {
   "cell_type": "markdown",
   "metadata": {},
   "source": [
    "**GeoJSON:** is an open standard format designed for representing simple geographical features, along with their non-spatial attributes. It is based on the JSON format.\n",
    "\n",
    "* The features include `Point`, `LineString`, `Polygon`, `MultiPoint`, `MultiLineString`, `MultiPolygon`"
   ]
  },
  {
   "cell_type": "markdown",
   "metadata": {},
   "source": [
    "[LeafLet Quick Start](https://leafletjs.com/SlavaUkraini/examples/quick-start/)"
   ]
  },
  {
   "cell_type": "markdown",
   "metadata": {},
   "source": [
    "[Last Hour Earthquake](https://earthquake.usgs.gov/earthquakes/feed/v1.0/summary/all_hour.geojson)"
   ]
  },
  {
   "cell_type": "markdown",
   "metadata": {},
   "source": [
    "# =========================================="
   ]
  },
  {
   "cell_type": "markdown",
   "metadata": {},
   "source": [
    "### 2.02 Everyone Do: GeoJSON activity (0:20)"
   ]
  },
  {
   "cell_type": "markdown",
   "metadata": {},
   "source": [
    "# GeoJSON\n",
    "\n",
    "In this activity, we will plot markers on a map to represent the occurrence of earthquakes. We will be working with GeoJSON from the [USGS](http://earthquake.usgs.gov) to achieve this.\n",
    "\n",
    "## Instructions\n",
    "\n",
    "1. Open the [logic.js](logic.js) file.\n",
    "\n",
    "2. Your starter code places an API call to the USGS Earthquake Hazards Program API. Take a moment to study the \"features\" array that is extracted from the response.\n",
    "\n",
    "3. Add some logic to create a GeoJSON layer containing all features retrieved from the API call and add it directly to the map. You can reference today's previous activities as well as [Leaflet's Docs for GeoJSON](http://leafletjs.com/examples/geojson/).\n",
    "\n",
    "4. Create an `overlayMaps` object using the newly created earthquake GeoJSON layer. Pass the `overlayMaps` into the layer control.\n",
    "\n",
    "## Bonus\n",
    "\n",
    "* Create a separate overlay layer for the GeoJSON, as well as a base layer using the `streetmap` tile layer and the `darkmap` tile layer. Add these to a layer control. Refer to the previous activity if stuck here.\n",
    "\n",
    "* Add a popup to each marker to display the time and location of the earthquake at that location.\n",
    "\n",
    "## Hints\n",
    "\n",
    "* See Leaflet Documentation on GeoJSON:\n",
    "\n",
    "  * <http://leafletjs.com/reference.html#geojson>\n",
    "  * <http://leafletjs.com/examples/geojson/>\n",
    "\n",
    "---\n",
    "![](../Images/02-GeoJSON_earthquake_popup_map.png)"
   ]
  },
  {
   "cell_type": "markdown",
   "metadata": {},
   "source": [
    "```js\n",
    "// Store our API endpoint inside queryUrl\n",
    "var queryUrl = \"https://earthquake.usgs.gov/fdsnws/event/1/query?format=geojson&starttime=2014-01-01&endtime=\" +\n",
    "  \"2014-01-02&maxlongitude=-69.52148437&minlongitude=-123.83789062&maxlatitude=48.74894534&minlatitude=25.16517337\";\n",
    "\n",
    "// Perform a GET request to the query URL\n",
    "d3.json(queryUrl, function(data) {\n",
    "  \n",
    "  // 1. Send the data.features object to the createFeatures function \n",
    "  createFeatures(data.features);\n",
    "});\n",
    "\n",
    "//  2. Create the createFeatures function to hold the data.features object\n",
    "function createFeatures(earthquakeData) {\n",
    "\n",
    "  // 3. Define a function we want to run once for each feature in the features array\n",
    "  // 4. Give each feature a popup describing the place and time of the earthquake\n",
    "  function onEachFeature(feature, layer) {\n",
    "    layer.bindPopup(\"<h3>\" + feature.properties.place +\n",
    "      \"</h3><hr><p>\" + new Date(feature.properties.time) + \"</p>\");\n",
    "  }\n",
    "\n",
    "  // 5. Create a GeoJSON layer containing the features array on the earthquakeData object\n",
    "  // 6. Run the onEachFeature function once for each piece of data in the array\n",
    "  var earthquakes = L.geoJSON(earthquakeData, {\n",
    "    onEachFeature: onEachFeature\n",
    "  });\n",
    "\n",
    "  //7. Send our earthquakes layer to the createMap function\n",
    "  createMap(earthquakes);\n",
    "}\n",
    "\n",
    "// 8. Create the createMap function to hold \n",
    "// the map layers, basemaps, overlay object, map object, and layer control.\n",
    "function createMap(earthquakes) {\n",
    "\n",
    "  // Define streetmap and darkmap layers\n",
    "  var streetmap = L.tileLayer('https://api.mapbox.com/styles/v1/{id}/tiles/{z}/{x}/{y}?access_token={accessToken}', {\n",
    "    attribution: 'Map data &copy; <a href=\"https://www.openstreetmap.org/\">OpenStreetMap</a> contributors, <a href=\"https://creativecommons.org/licenses/by-sa/2.0/\">CC-BY-SA</a>, Imagery (c) <a href=\"https://www.mapbox.com/\">Mapbox</a>',\n",
    "    maxZoom: 18,\n",
    "    id: 'mapbox/streets-v11',\n",
    "    accessToken: API_KEY\n",
    "  });\n",
    "\n",
    "  var darkmap = L.tileLayer('https://api.mapbox.com/styles/v1/{id}/tiles/{z}/{x}/{y}?access_token={accessToken}', {\n",
    "    attribution: 'Map data &copy; <a href=\"https://www.openstreetmap.org/\">OpenStreetMap</a> contributors, <a href=\"https://creativecommons.org/licenses/by-sa/2.0/\">CC-BY-SA</a>, Imagery (c) <a href=\"https://www.mapbox.com/\">Mapbox</a>',\n",
    "    maxZoom: 18,\n",
    "    id: 'mapbox/dark-v10',\n",
    "    accessToken: API_KEY\n",
    "  });\n",
    "\n",
    "  // Define a baseMaps object to hold our base layers\n",
    "  var baseMaps = {\n",
    "    \"Street Map\": streetmap,\n",
    "    \"Dark Map\": darkmap\n",
    "  };\n",
    "\n",
    "  // Create overlay object to hold our overlay layer\n",
    "  var overlayMaps = {\n",
    "    Earthquakes: earthquakes\n",
    "  };\n",
    "\n",
    "  // Create our map, giving it the streetmap and earthquakes layers to display on load\n",
    "  var myMap = L.map(\"map\", {\n",
    "    center: [\n",
    "    40.0, -97.0\n",
    "    ],\n",
    "    zoom: 5,\n",
    "    layers: [streetmap, earthquakes]\n",
    "  });\n",
    "\n",
    "  // Create a layer control\n",
    "  // Pass in our baseMaps and overlayMaps\n",
    "  // Add the layer control to the map\n",
    "  L.control.layers(baseMaps, overlayMaps, {\n",
    "    collapsed: false\n",
    "  }).addTo(myMap);\n",
    "}\n",
    "```"
   ]
  },
  {
   "cell_type": "markdown",
   "metadata": {},
   "source": [
    "# =========================================="
   ]
  },
  {
   "cell_type": "markdown",
   "metadata": {},
   "source": [
    "### 2.03 Everyone Do: NYC Neighborhoods (0:25)"
   ]
  },
  {
   "cell_type": "markdown",
   "metadata": {},
   "source": [
    "# Everyone Do NYC Neighborhoods\n",
    "\n",
    "* In this activity, you will be building a map of New York City that is broken down by boroughs and neighborhoods. \n",
    "\n",
    "* You will first make a basic map of the data, and then color each neighborhood based on the borough.\n",
    "\n",
    "![](../Images/03-Boroughs_Start.png)\n",
    "\n",
    "![](../Images/03-Boroughs.png)"
   ]
  },
  {
   "cell_type": "markdown",
   "metadata": {},
   "source": [
    "---\n",
    "```js\n",
    "// Creating a map object\n",
    "var myMap = L.map(\"map\", {\n",
    "  center: [40.7128, -74.0059],\n",
    "  zoom: 11\n",
    "});\n",
    "\n",
    "// Adding a tile layer\n",
    "L.tileLayer(\"https://api.mapbox.com/styles/v1/{id}/tiles/{z}/{x}/{y}?access_token={accessToken}\", {\n",
    "  attribution: \"© <a href='https://www.mapbox.com/about/maps/'>Mapbox</a> © <a href='http://www.openstreetmap.org/copyright'>OpenStreetMap</a> <strong><a href='https://www.mapbox.com/map-feedback/' target='_blank'>Improve this map</a></strong>\",\n",
    "  tileSize: 512,\n",
    "  maxZoom: 18,\n",
    "  zoomOffset: -1,\n",
    "  id: \"mapbox/streets-v11\",\n",
    "  accessToken: API_KEY\n",
    "}).addTo(myMap);\n",
    "\n",
    "// If data.beta.nyc is down comment out this link\n",
    "var link = \"http://data.beta.nyc//dataset/0ff93d2d-90ba-457c-9f7e-39e47bf2ac5f/resource/\" +\n",
    "  \"35dd04fb-81b3-479b-a074-a27a37888ce7/download/d085e2f8d0b54d4590b1e7d1f35594c1pediacitiesnycneighborhoods.geojson\";\n",
    "\n",
    "\n",
    "// Use this link to get the geojson data.\n",
    "// var link = \"static/data/nyc.geojson\";\n",
    "\n",
    "// Get our GeoJSON data using d3.json\n",
    "d3.json(link, function(data) {\n",
    "  // Creating a GeoJSON layer with the retrieved data\n",
    "  L.geoJson(data).addTo(myMap);\n",
    "});\n",
    "\n",
    "```"
   ]
  },
  {
   "cell_type": "markdown",
   "metadata": {},
   "source": [
    "---\n",
    "```js\n",
    "// Creating map object\n",
    "var myMap = L.map(\"map\", {\n",
    "  center: [40.7128, -74.0059],\n",
    "  zoom: 11\n",
    "});\n",
    "\n",
    "// Adding tile layer\n",
    "L.tileLayer(\"https://api.mapbox.com/styles/v1/{id}/tiles/{z}/{x}/{y}?access_token={accessToken}\", {\n",
    "  attribution: \"© <a href='https://www.mapbox.com/about/maps/'>Mapbox</a> © <a href='http://www.openstreetmap.org/copyright'>OpenStreetMap</a> <strong><a href='https://www.mapbox.com/map-feedback/' target='_blank'>Improve this map</a></strong>\",\n",
    "  tileSize: 512,\n",
    "  maxZoom: 18,\n",
    "  zoomOffset: -1,\n",
    "  id: \"mapbox/streets-v11\",\n",
    "  accessToken: API_KEY\n",
    "}).addTo(myMap);\n",
    "\n",
    "// If data.beta.nyc is down comment out this link\n",
    "var link = \"http://data.beta.nyc//dataset/0ff93d2d-90ba-457c-9f7e-39e47bf2ac5f/resource/\" +\n",
    "  \"35dd04fb-81b3-479b-a074-a27a37888ce7/download/d085e2f8d0b54d4590b1e7d1f35594c1pediacitiesnycneighborhoods.geojson\";\n",
    "\n",
    "\n",
    "// Use this link to get the geojson data.\n",
    "// var link = \"static/data/nyc.geojson\";\n",
    "\n",
    "// Our style object\n",
    "var mapStyle = {\n",
    "  color: \"white\",\n",
    "  fillColor: \"pink\",\n",
    "  fillOpacity: 0.5,\n",
    "  weight: 1.5\n",
    "};\n",
    "\n",
    "// Grabbing our GeoJSON data..\n",
    "d3.json(link, function(data) {\n",
    "  // Creating a geoJSON layer with the retrieved data\n",
    "  L.geoJson(data, {\n",
    "    // Passing in our style object\n",
    "    style: mapStyle\n",
    "  }).addTo(myMap);\n",
    "});\n",
    "\n",
    "```"
   ]
  },
  {
   "cell_type": "markdown",
   "metadata": {},
   "source": [
    "---\n",
    "```js\n",
    "// Creating map object\n",
    "var myMap = L.map(\"map\", {\n",
    "  center: [40.7128, -74.0059],\n",
    "  zoom: 11\n",
    "});\n",
    "\n",
    "// Adding tile layer\n",
    "L.tileLayer(\"https://api.mapbox.com/styles/v1/{id}/tiles/{z}/{x}/{y}?access_token={accessToken}\", {\n",
    "  attribution: \"© <a href='https://www.mapbox.com/about/maps/'>Mapbox</a> © <a href='http://www.openstreetmap.org/copyright'>OpenStreetMap</a> <strong><a href='https://www.mapbox.com/map-feedback/' target='_blank'>Improve this map</a></strong>\",\n",
    "  tileSize: 512,\n",
    "  maxZoom: 18,\n",
    "  zoomOffset: -1,\n",
    "  id: \"mapbox/streets-v11\",\n",
    "  accessToken: API_KEY\n",
    "}).addTo(myMap);\n",
    "\n",
    "// If data.beta.nyc is down comment out this link\n",
    "var link = \"http://data.beta.nyc//dataset/0ff93d2d-90ba-457c-9f7e-39e47bf2ac5f/resource/\" +\n",
    "  \"35dd04fb-81b3-479b-a074-a27a37888ce7/download/d085e2f8d0b54d4590b1e7d1f35594c1pediacitiesnycneighborhoods.geojson\";\n",
    "\n",
    "\n",
    "// Use this link to get the geojson data.\n",
    "// var link = \"static/data/nyc.geojson\";\n",
    "\n",
    "// Function that will determine the color of a neighborhood based on the borough it belongs to\n",
    "function chooseColor(borough) {\n",
    "  switch (borough) {\n",
    "  case \"Brooklyn\":\n",
    "    return \"yellow\";\n",
    "  case \"Bronx\":\n",
    "    return \"red\";\n",
    "  case \"Manhattan\":\n",
    "    return \"orange\";\n",
    "  case \"Queens\":\n",
    "    return \"green\";\n",
    "  case \"Staten Island\":\n",
    "    return \"purple\";\n",
    "  default:\n",
    "    return \"black\";\n",
    "  }\n",
    "}\n",
    "\n",
    "// Grabbing our GeoJSON data..\n",
    "d3.json(link, function(data) {\n",
    "  // Creating a geoJSON layer with the retrieved data\n",
    "  L.geoJson(data, {\n",
    "    style: function(feature) {\n",
    "      return {\n",
    "        color: \"white\",\n",
    "        fillColor: chooseColor(feature.properties.borough),\n",
    "        fillOpacity: 0.5,\n",
    "        weight: 1.5\n",
    "      };\n",
    "    }\n",
    "  }).addTo(myMap);\n",
    "});\n",
    "\n",
    "```"
   ]
  },
  {
   "cell_type": "markdown",
   "metadata": {},
   "source": [
    "---\n",
    "```js\n",
    "// Creating map object\n",
    "var myMap = L.map(\"map\", {\n",
    "  center: [40.7128, -74.0059],\n",
    "  zoom: 11\n",
    "});\n",
    "\n",
    "// Adding tile layer\n",
    "L.tileLayer(\"https://api.mapbox.com/styles/v1/{id}/tiles/{z}/{x}/{y}?access_token={accessToken}\", {\n",
    "  attribution: \"© <a href='https://www.mapbox.com/about/maps/'>Mapbox</a> © <a href='http://www.openstreetmap.org/copyright'>OpenStreetMap</a> <strong><a href='https://www.mapbox.com/map-feedback/' target='_blank'>Improve this map</a></strong>\",\n",
    "  tileSize: 512,\n",
    "  maxZoom: 18,\n",
    "  zoomOffset: -1,\n",
    "  id: \"mapbox/streets-v11\",\n",
    "  accessToken: API_KEY\n",
    "}).addTo(myMap);\n",
    "\n",
    "// If data.beta.nyc is down comment out this link\n",
    "var link = \"http://data.beta.nyc//dataset/0ff93d2d-90ba-457c-9f7e-39e47bf2ac5f/resource/\" +\n",
    "  \"35dd04fb-81b3-479b-a074-a27a37888ce7/download/d085e2f8d0b54d4590b1e7d1f35594c1pediacitiesnycneighborhoods.geojson\";\n",
    "\n",
    "\n",
    "// Use this link to get the geojson data.\n",
    "// var link = \"static/data/nyc.geojson\";\n",
    "\n",
    "// Function that will determine the color of a neighborhood based on the borough it belongs to\n",
    "function chooseColor(borough) {\n",
    "  switch (borough) {\n",
    "  case \"Brooklyn\":\n",
    "    return \"yellow\";\n",
    "  case \"Bronx\":\n",
    "    return \"red\";\n",
    "  case \"Manhattan\":\n",
    "    return \"orange\";\n",
    "  case \"Queens\":\n",
    "    return \"green\";\n",
    "  case \"Staten Island\":\n",
    "    return \"purple\";\n",
    "  default:\n",
    "    return \"black\";\n",
    "  }\n",
    "}\n",
    "\n",
    "// Grabbing our GeoJSON data..\n",
    "d3.json(link, function(data) {\n",
    "  // Creating a geoJSON layer with the retrieved data\n",
    "  L.geoJson(data, {\n",
    "    // Style each feature (in this case a neighborhood)\n",
    "    style: function(feature) {\n",
    "      return {\n",
    "        color: \"white\",\n",
    "        // Call the chooseColor function to decide which color to color our neighborhood (color based on borough)\n",
    "        fillColor: chooseColor(feature.properties.borough),\n",
    "        fillOpacity: 0.5,\n",
    "        weight: 1.5\n",
    "      };\n",
    "    },\n",
    "    // Called on each feature\n",
    "    onEachFeature: function(feature, layer) {\n",
    "      // Set mouse events to change map styling\n",
    "      layer.on({\n",
    "        // When a user's mouse touches a map feature, the mouseover event calls this function, that feature's opacity changes to 90% so that it stands out\n",
    "        mouseover: function(event) {\n",
    "          layer = event.target;\n",
    "          layer.setStyle({\n",
    "            fillOpacity: 0.9\n",
    "          });\n",
    "        },\n",
    "        // When the cursor no longer hovers over a map feature - when the mouseout event occurs - the feature's opacity reverts back to 50%\n",
    "        mouseout: function(event) {\n",
    "          layer = event.target;\n",
    "          layer.setStyle({\n",
    "            fillOpacity: 0.5\n",
    "          });\n",
    "        },\n",
    "        // When a feature (neighborhood) is clicked, it is enlarged to fit the screen\n",
    "        click: function(event) {\n",
    "          myMap.fitBounds(event.target.getBounds());\n",
    "        }\n",
    "      });\n",
    "      // Giving each feature a pop-up with information pertinent to it\n",
    "      layer.bindPopup(\"<h1>\" + feature.properties.neighborhood + \"</h1> <hr> <h2>\" + feature.properties.borough + \"</h2>\");\n",
    "\n",
    "    }\n",
    "  }).addTo(myMap);\n",
    "});\n",
    "\n",
    "```"
   ]
  },
  {
   "cell_type": "markdown",
   "metadata": {},
   "source": [
    "# =========================================="
   ]
  },
  {
   "cell_type": "markdown",
   "metadata": {},
   "source": [
    "### 2.04 Groups Do: Make Your Own Map (0:30)"
   ]
  },
  {
   "cell_type": "markdown",
   "metadata": {},
   "source": [
    "# DataViz Story\n",
    "\n",
    "## Instructions\n",
    "\n",
    "* Create a map or multiple maps (layers) and plot one or more of the following Boston GeoJSON datasets provided in the [04-Grp_DataViz_Story/Unsolved/static/data](04-Grp_DataViz_Story/Unsolved/static/data) folder. \n",
    "\n",
    "* The datasets were downloaded from the following links: \n",
    "  * The [Wicked_Free_Wi-Fi_Locations.geojson](https://data.boston.gov/dataset/wicked-free-wi-fi-locations1) is Boston's outdoor wireless network. The data is Point geometry. \n",
    "  * The [Charging_Stations.geojson](https://data.boston.gov/dataset/charging-stations1) is Point geometry.  \n",
    "  * The [Boston_Neighborhoods.geojson](https://data.boston.gov/dataset/boston-neighborhoods1) is MulitPolygon geometry. \n",
    "  * The [Fire_Districts.geojson](https://data.boston.gov/dataset/fire-districts1) is MulitPolygon geometry.\n",
    "  * The [Fire_Departments.geojson](https://data.boston.gov/dataset/fire-departments1) is Point geometry.\n",
    "  * The [Police_Districts.geojson](https://data.boston.gov/dataset/police-districts1) is MulitPolygon geometry.\n",
    "  * The [Boston_Police_Stations.geojson](https://data.boston.gov/dataset/boston-police-stations1) is Point geometry.\n",
    "\n",
    "* For the data visualization story include:\n",
    "  * What is the purpose for choosing the data for your story?\n",
    "  * How did you map the data?\n",
    "    * Did you used multiple overlays and layers (maps)?\n",
    "    * Did you provide popups for the markers? \n",
    "    * Did you add color to the MulitPolygon geometry features so they stand out? \n",
    "  * What does the mapped data show the viewer?  \n",
    "\n",
    "* Suggested maps include:\n",
    "  * What neighborhoods have the most / least free public wi-fi locations, electrical vehicle charging, police, or fire stations?\n",
    "  * What police or fire districts have the most / least police or fire departments? \n",
    "\n",
    "* If you would like to use different Boston datasets or add more information to your visualization you can search at [data.boston.gov](https://data.boston.gov/dataset).  \n",
    "\n",
    "* **Hint:** To see the objects in each GeoJSON file, make a copy of the file and save it as a `.json` file, then open it up in the FireFox browser or in Chrome if you have the JSONView plugin. "
   ]
  },
  {
   "cell_type": "markdown",
   "metadata": {},
   "source": [
    "---\n",
    "```js\n",
    "\n",
    "```"
   ]
  },
  {
   "cell_type": "markdown",
   "metadata": {},
   "source": [
    "# =========================================="
   ]
  },
  {
   "cell_type": "markdown",
   "metadata": {},
   "source": [
    "### Rating Class Objectives\n",
    "\n",
    "* rate your understanding using 1-5 method in each objective"
   ]
  },
  {
   "cell_type": "code",
   "execution_count": null,
   "metadata": {},
   "outputs": [],
   "source": [
    "title = \"13.2-Mapping - Mapping GeoJSON Data\"\n",
    "objectives = [\n",
    "    \"Use external GeoJSON data to populate a map\",\n",
    "    \"Modify the layer controls to add interactivity to maps\",\n",
    "]\n",
    "rating = []\n",
    "total = 0\n",
    "for i in range(len(objectives)):\n",
    "    rate = input(objectives[i]+\"? \")\n",
    "    total += int(rate)\n",
    "    rating.append(objectives[i] + \". (\" + rate + \"/5)\")\n",
    "print(\"=\"*96)\n",
    "print(f\"Self Evaluation for: {title}\")\n",
    "print(\"-\"*24)\n",
    "for i in rating:\n",
    "    print(i)\n",
    "print(\"-\"*64)\n",
    "print(\"Average: \" + str(total/len(objectives)))"
   ]
  }
 ],
 "metadata": {
  "kernelspec": {
   "display_name": "Python 3 (ipykernel)",
   "language": "python",
   "name": "python3"
  },
  "language_info": {
   "codemirror_mode": {
    "name": "ipython",
    "version": 3
   },
   "file_extension": ".py",
   "mimetype": "text/x-python",
   "name": "python",
   "nbconvert_exporter": "python",
   "pygments_lexer": "ipython3",
   "version": "3.8.11"
  }
 },
 "nbformat": 4,
 "nbformat_minor": 4
}
